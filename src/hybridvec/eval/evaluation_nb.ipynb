{
 "cells": [
  {
   "cell_type": "code",
   "execution_count": 125,
   "metadata": {
    "collapsed": true
   },
   "outputs": [],
   "source": [
    "# % cd .."
   ]
  },
  {
   "cell_type": "code",
   "execution_count": 164,
   "metadata": {
    "collapsed": true
   },
   "outputs": [],
   "source": [
    "import numpy as np\n",
    "import torch\n",
    "import torch.nn.functional as F\n",
    "import torchtext.vocab as vocab\n",
    "import seaborn as sns\n",
    "import pandas as pd\n",
    "import matplotlib.pyplot as plt\n",
    "% matplotlib inline"
   ]
  },
  {
   "cell_type": "code",
   "execution_count": 217,
   "metadata": {
    "collapsed": true
   },
   "outputs": [],
   "source": [
    "vocab = vocab.GloVe(name=\"6B\", dim=100)"
   ]
  },
  {
   "cell_type": "code",
   "execution_count": 218,
   "metadata": {
    "collapsed": true
   },
   "outputs": [],
   "source": [
    "def get_glove_word(word):\n",
    "    return vocab.vectors[vocab.stoi[word]]"
   ]
  },
  {
   "cell_type": "code",
   "execution_count": 132,
   "metadata": {
    "collapsed": true
   },
   "outputs": [],
   "source": [
    "rw_embeddings = np.load(\"./eval/out_embeddings.npy\").item()\n",
    "rw_attns = np.load(\"./eval/out_attns.npy\").item()\n",
    "rw_defns = np.load(\"./eval/out_defns.npy\").item()"
   ]
  },
  {
   "cell_type": "code",
   "execution_count": 134,
   "metadata": {
    "collapsed": true
   },
   "outputs": [],
   "source": [
    "rw = rw_embeddings.keys()"
   ]
  },
  {
   "cell_type": "code",
   "execution_count": 276,
   "metadata": {},
   "outputs": [
    {
     "data": {
      "text/plain": [
       "['benefited',\n",
       " 'enlarger',\n",
       " 'characters',\n",
       " 'intercession',\n",
       " 'extraterritorial',\n",
       " 'reassuringly',\n",
       " 'enjoining',\n",
       " 'reclassifications',\n",
       " 'organismal',\n",
       " 'portioned',\n",
       " 'inharmonious',\n",
       " 'seasonable',\n",
       " 'circumferential',\n",
       " 'consigning',\n",
       " 'disbelieving',\n",
       " 'immensely',\n",
       " 'traitorous',\n",
       " 'discharged',\n",
       " 'dispersive',\n",
       " 'thoughtless',\n",
       " 'communistic',\n",
       " 'unequivocal',\n",
       " 'carbonate',\n",
       " 'brisker',\n",
       " 'trichloride',\n",
       " 'inflammation',\n",
       " 'philanthropy',\n",
       " 'impassively',\n",
       " 'monoculture',\n",
       " 'smoothen',\n",
       " 'socialites',\n",
       " 'defrauding',\n",
       " 'algebras',\n",
       " 'flatulence',\n",
       " 'evacuated',\n",
       " 'carburettors',\n",
       " 'encrust',\n",
       " 'flighted',\n",
       " 'highjacking',\n",
       " 'refresher',\n",
       " 'eldership',\n",
       " 'antitumor',\n",
       " 'punctuate',\n",
       " 'transverse',\n",
       " 'approachable',\n",
       " 'prolapse',\n",
       " 'continuously',\n",
       " 'mistrustful',\n",
       " 'disturbance',\n",
       " 'sulfuric']"
      ]
     },
     "execution_count": 276,
     "metadata": {},
     "output_type": "execute_result"
    }
   ],
   "source": [
    "rw[500:550]"
   ]
  },
  {
   "cell_type": "markdown",
   "metadata": {},
   "source": [
    "**Attention**"
   ]
  },
  {
   "cell_type": "code",
   "execution_count": 246,
   "metadata": {},
   "outputs": [],
   "source": [
    "def visualize_attn(word):\n",
    "    \"\"\"\n",
    "    Visualize the attention\n",
    "    \"\"\"\n",
    "    plt.figure(figsize=(20,1))\n",
    "    plt.title(\"Attention for: {}\".format(word))\n",
    "    cmap = sns.diverging_palette(220, 10, as_cmap=True)\n",
    "    sns.heatmap(rw_attns[word][np.newaxis,:], cmap=cmap, vmax=.3, center=0,\n",
    "            square=True, linewidths=.5, cbar_kws={\"shrink\": .5}, yticklabels=False,\n",
    "            cbar=False, xticklabels=rw_defns[word].split())"
   ]
  },
  {
   "cell_type": "code",
   "execution_count": 289,
   "metadata": {},
   "outputs": [
    {
     "data": {
      "image/png": "[encoded data removed]",
      "text/plain": [
       "<matplotlib.figure.Figure at 0x7f5a0c7a3cd0>"
      ]
     },
     "metadata": {},
     "output_type": "display_data"
    }
   ],
   "source": [
    "visualize_attn(\"punctuate\")"
   ]
  },
  {
   "cell_type": "markdown",
   "metadata": {},
   "source": [
    "**Evaluation: Semantic meaning of 10 closest words.**"
   ]
  },
  {
   "cell_type": "code",
   "execution_count": 280,
   "metadata": {
    "collapsed": true
   },
   "outputs": [],
   "source": [
    "def closest_words(vec, n=10):\n",
    "    vec = torch.FloatTensor(vec)\n",
    "    vec_normed = vec / torch.norm(vec)\n",
    "    all_dists = [(w, torch.dist(vec_normed, get_glove_word(w) / torch.norm(get_glove_word(w)))) for w in vocab.itos]\n",
    "    return sorted(all_dists, key=lambda t: t[1])[:n]"
   ]
  },
  {
   "cell_type": "code",
   "execution_count": 284,
   "metadata": {},
   "outputs": [],
   "source": [
    "vec = rw_embeddings[\"antitumor\"]"
   ]
  },
  {
   "cell_type": "code",
   "execution_count": 285,
   "metadata": {},
   "outputs": [
    {
     "data": {
      "text/plain": [
       "[(u'prostate', 0.6929826140403748),\n",
       " (u'cancer', 0.7075775265693665),\n",
       " (u'colorectal', 0.7248782515525818),\n",
       " (u'cancers', 0.744085967540741),\n",
       " (u'melanoma', 0.746403157711029),\n",
       " (u'breast', 0.759292483329773),\n",
       " (u'ovarian', 0.760877251625061),\n",
       " (u'chemotherapy', 0.7742590308189392),\n",
       " (u'leukemia', 0.7865822315216064),\n",
       " (u'treatments', 0.8031073808670044)]"
      ]
     },
     "execution_count": 285,
     "metadata": {},
     "output_type": "execute_result"
    }
   ],
   "source": [
    "closest_words(vec)"
   ]
  },
  {
   "cell_type": "code",
   "execution_count": null,
   "metadata": {
    "collapsed": true
   },
   "outputs": [],
   "source": []
  }
 ],
 "metadata": {
  "kernelspec": {
   "display_name": "Python 2",
   "language": "python",
   "name": "python2"
  },
  "language_info": {
   "codemirror_mode": {
    "name": "ipython",
    "version": 2
   },
   "file_extension": ".py",
   "mimetype": "text/x-python",
   "name": "python",
   "nbconvert_exporter": "python",
   "pygments_lexer": "ipython2",
   "version": "2.7.11"
  }
 },
 "nbformat": 4,
 "nbformat_minor": 2
}
